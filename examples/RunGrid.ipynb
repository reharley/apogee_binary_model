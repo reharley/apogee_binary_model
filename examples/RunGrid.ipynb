{
 "cells": [
  {
   "cell_type": "code",
   "execution_count": 1,
   "metadata": {
    "collapsed": false
   },
   "outputs": [
    {
     "name": "stdout",
     "output_type": "stream",
     "text": [
      "-------------PASS 1/3-------------\n",
      "Fitting: 4586, 2M03441568+3231282, nvisits: 16\n",
      "On target: 1/3\n",
      "('Visit: 1', 'Grid dimensions: (4, 8, 7, 10, 10)')\n",
      "BinaryGrid.py:115: RuntimeWarning: divide by zero encountered in divide\n",
      "  cont= spec / continuum.fit(aspec, aspecerr, type='aspcap')[0]\n",
      "\n",
      "BinaryGrid.py:115: RuntimeWarning: invalid value encountered in divide\n",
      "  cont= spec / continuum.fit(aspec, aspecerr, type='aspcap')[0]\n",
      "\n",
      "BinaryGrid.py:116: RuntimeWarning: divide by zero encountered in divide\n",
      "  conterr = specerr / continuum.fit(aspec, aspecerr, type='aspcap')[0]\n",
      "\n",
      "('Visit: 2', 'Grid dimensions: (4, 8, 7, 10, 10)')\n",
      "('Visit: 3', 'Grid dimensions: (4, 8, 7, 10, 10)')\n",
      "('Visit: 4', 'Grid dimensions: (4, 8, 7, 10, 10)')\n",
      "('Visit: 5', 'Grid dimensions: (4, 8, 7, 10, 10)')\n",
      "('Visit: 6', 'Grid dimensions: (4, 8, 7, 10, 10)')\n",
      "('Visit: 7', 'Grid dimensions: (4, 8, 7, 10, 10)')\n",
      "('Visit: 8', 'Grid dimensions: (4, 8, 7, 10, 10)')\n",
      "('Visit: 9', 'Grid dimensions: (4, 8, 7, 10, 10)')\n",
      "('Visit: 10', 'Grid dimensions: (4, 8, 7, 10, 10)')\n",
      "('Visit: 11', 'Grid dimensions: (4, 8, 7, 10, 10)')\n",
      "('Visit: 12', 'Grid dimensions: (4, 8, 7, 10, 10)')\n",
      "('Visit: 13', 'Grid dimensions: (4, 8, 7, 10, 10)')\n",
      "('Visit: 14', 'Grid dimensions: (4, 8, 7, 10, 10)')\n"
     ]
    },
    {
     "ename": "KeyboardInterrupt",
     "evalue": "",
     "output_type": "error",
     "traceback": [
      "\u001b[0;31m---------------------------------------------------------------------------\u001b[0m",
      "\u001b[0;31mKeyboardInterrupt\u001b[0m                         Traceback (most recent call last)",
      "\u001b[0;32m<ipython-input-1-57816447699c>\u001b[0m in \u001b[0;36m<module>\u001b[0;34m()\u001b[0m\n\u001b[1;32m      3\u001b[0m \u001b[0;31m# The number of passes to go through the grid\u001b[0m\u001b[0;34m\u001b[0m\u001b[0;34m\u001b[0m\u001b[0m\n\u001b[1;32m      4\u001b[0m \u001b[0mpassCount\u001b[0m \u001b[0;34m=\u001b[0m \u001b[0;36m3\u001b[0m\u001b[0;34m\u001b[0m\u001b[0m\n\u001b[0;32m----> 5\u001b[0;31m \u001b[0mGrid\u001b[0m\u001b[0;34m.\u001b[0m\u001b[0mrunGrid\u001b[0m\u001b[0;34m(\u001b[0m\u001b[0mpassCount\u001b[0m\u001b[0;34m,\u001b[0m \u001b[0mfilename\u001b[0m\u001b[0;34m=\u001b[0m\u001b[0;34m'lists/binaries3.dat'\u001b[0m\u001b[0;34m)\u001b[0m\u001b[0;34m\u001b[0m\u001b[0m\n\u001b[0m",
      "\u001b[0;32m/Users/harleyr/Documents/Grid.pyc\u001b[0m in \u001b[0;36mrunGrid\u001b[0;34m(passCount, filename)\u001b[0m\n\u001b[1;32m    133\u001b[0m \u001b[0;34m\u001b[0m\u001b[0m\n\u001b[1;32m    134\u001b[0m         \u001b[0mminimizedVisitParams\u001b[0m \u001b[0;34m=\u001b[0m \u001b[0;34m[\u001b[0m\u001b[0;34m]\u001b[0m\u001b[0;34m\u001b[0m\u001b[0m\n\u001b[0;32m--> 135\u001b[0;31m         \u001b[0mgrid\u001b[0m\u001b[0;34m(\u001b[0m\u001b[0mpassCount\u001b[0m\u001b[0;34m,\u001b[0m \u001b[0mgridParams\u001b[0m\u001b[0;34m,\u001b[0m \u001b[0mminimizedVisitParams\u001b[0m\u001b[0;34m)\u001b[0m\u001b[0;34m\u001b[0m\u001b[0m\n\u001b[0m\u001b[1;32m    136\u001b[0m         \u001b[0mwriteGridToFile\u001b[0m\u001b[0;34m(\u001b[0m\u001b[0mgridParams\u001b[0m\u001b[0;34m)\u001b[0m\u001b[0;34m\u001b[0m\u001b[0m\n\u001b[1;32m    137\u001b[0m         \u001b[0;32mfor\u001b[0m \u001b[0mi\u001b[0m \u001b[0;32min\u001b[0m \u001b[0mrange\u001b[0m\u001b[0;34m(\u001b[0m\u001b[0mlen\u001b[0m\u001b[0;34m(\u001b[0m\u001b[0mminimizedVisitParams\u001b[0m\u001b[0;34m)\u001b[0m\u001b[0;34m)\u001b[0m\u001b[0;34m:\u001b[0m\u001b[0;34m\u001b[0m\u001b[0m\n",
      "\u001b[0;32m/Users/harleyr/Documents/Grid.pyc\u001b[0m in \u001b[0;36mgrid\u001b[0;34m(passCount, gridParams, minimizedVisitParams)\u001b[0m\n\u001b[1;32m     91\u001b[0m                         \u001b[0mttarget\u001b[0m\u001b[0;34m.\u001b[0m\u001b[0mstart\u001b[0m\u001b[0;34m(\u001b[0m\u001b[0;34m)\u001b[0m\u001b[0;34m\u001b[0m\u001b[0m\n\u001b[1;32m     92\u001b[0m \u001b[0;34m\u001b[0m\u001b[0m\n\u001b[0;32m---> 93\u001b[0;31m                         \u001b[0mbg\u001b[0m\u001b[0;34m.\u001b[0m\u001b[0mtargetGrid\u001b[0m\u001b[0;34m(\u001b[0m\u001b[0mgridParams\u001b[0m\u001b[0;34m[\u001b[0m\u001b[0mi\u001b[0m\u001b[0;34m]\u001b[0m\u001b[0;34m,\u001b[0m \u001b[0mminimizedVisitParams\u001b[0m\u001b[0;34m,\u001b[0m \u001b[0mplot\u001b[0m\u001b[0;34m=\u001b[0m\u001b[0mFalse\u001b[0m\u001b[0;34m)\u001b[0m\u001b[0;34m\u001b[0m\u001b[0m\n\u001b[0m\u001b[1;32m     94\u001b[0m \u001b[0;34m\u001b[0m\u001b[0m\n\u001b[1;32m     95\u001b[0m                         \u001b[0mtemp\u001b[0m \u001b[0;34m=\u001b[0m \u001b[0mttarget\u001b[0m\u001b[0;34m.\u001b[0m\u001b[0mend\u001b[0m\u001b[0;34m(\u001b[0m\u001b[0;34m)\u001b[0m\u001b[0;34m\u001b[0m\u001b[0m\n",
      "\u001b[0;32m/Users/harleyr/Documents/BinaryGrid.py\u001b[0m in \u001b[0;36mtargetGrid\u001b[0;34m(gridParam, minimizedVisitParams, plot)\u001b[0m\n\u001b[1;32m    123\u001b[0m                 \u001b[0;32mfor\u001b[0m \u001b[0mi\u001b[0m \u001b[0;32min\u001b[0m \u001b[0mrange\u001b[0m\u001b[0;34m(\u001b[0m\u001b[0mnrangeTeffA\u001b[0m\u001b[0;34m)\u001b[0m\u001b[0;34m:\u001b[0m\u001b[0;34m\u001b[0m\u001b[0m\n\u001b[1;32m    124\u001b[0m                         \u001b[0mgridParam\u001b[0m\u001b[0;34m.\u001b[0m\u001b[0mmodelParamA\u001b[0m\u001b[0;34m.\u001b[0m\u001b[0mteff\u001b[0m \u001b[0;34m=\u001b[0m \u001b[0mrangeTeffA\u001b[0m\u001b[0;34m[\u001b[0m\u001b[0mi\u001b[0m\u001b[0;34m]\u001b[0m\u001b[0;34m\u001b[0m\u001b[0m\n\u001b[0;32m--> 125\u001b[0;31m                         \u001b[0mcomponentA\u001b[0m \u001b[0;34m=\u001b[0m \u001b[0mbm\u001b[0m\u001b[0;34m.\u001b[0m\u001b[0mgenComponent\u001b[0m\u001b[0;34m(\u001b[0m\u001b[0mgridParam\u001b[0m\u001b[0;34m.\u001b[0m\u001b[0mmodelParamA\u001b[0m\u001b[0;34m,\u001b[0m \u001b[0mipf\u001b[0m\u001b[0;34m,\u001b[0m \u001b[0mipg\u001b[0m\u001b[0;34m)\u001b[0m\u001b[0;34m\u001b[0m\u001b[0m\n\u001b[0m\u001b[1;32m    126\u001b[0m                         \u001b[0;32mfor\u001b[0m \u001b[0mj\u001b[0m \u001b[0;32min\u001b[0m \u001b[0mrange\u001b[0m\u001b[0;34m(\u001b[0m\u001b[0mnrangeTeffB\u001b[0m\u001b[0;34m)\u001b[0m\u001b[0;34m:\u001b[0m\u001b[0;34m\u001b[0m\u001b[0m\n\u001b[1;32m    127\u001b[0m                                 \u001b[0mgridParam\u001b[0m\u001b[0;34m.\u001b[0m\u001b[0mmodelParamB\u001b[0m\u001b[0;34m.\u001b[0m\u001b[0mteff\u001b[0m \u001b[0;34m=\u001b[0m \u001b[0mrangeTeffB\u001b[0m\u001b[0;34m[\u001b[0m\u001b[0mj\u001b[0m\u001b[0;34m]\u001b[0m\u001b[0;34m\u001b[0m\u001b[0m\n",
      "\u001b[0;32m/Users/harleyr/Documents/BinModelGen.pyc\u001b[0m in \u001b[0;36mgenComponent\u001b[0;34m(modelParams, ipf, ipg)\u001b[0m\n\u001b[1;32m    177\u001b[0m                         \u001b[0;32mreturn\u001b[0m \u001b[0mipf\u001b[0m\u001b[0;34m(\u001b[0m\u001b[0mmodelParams\u001b[0m\u001b[0;34m.\u001b[0m\u001b[0mteff\u001b[0m\u001b[0;34m,\u001b[0m \u001b[0mmodelParams\u001b[0m\u001b[0;34m.\u001b[0m\u001b[0mlogg\u001b[0m\u001b[0;34m,\u001b[0m \u001b[0mmodelParams\u001b[0m\u001b[0;34m.\u001b[0m\u001b[0mmetals\u001b[0m\u001b[0;34m,\u001b[0m \u001b[0mmodelParams\u001b[0m\u001b[0;34m.\u001b[0m\u001b[0malphafe\u001b[0m\u001b[0;34m,\u001b[0m \u001b[0mmodelParams\u001b[0m\u001b[0;34m.\u001b[0m\u001b[0mnfe\u001b[0m\u001b[0;34m,\u001b[0m \u001b[0mmodelParams\u001b[0m\u001b[0;34m.\u001b[0m\u001b[0mcfe\u001b[0m\u001b[0;34m)\u001b[0m\u001b[0;34m\u001b[0m\u001b[0m\n\u001b[1;32m    178\u001b[0m         \u001b[0;32melse\u001b[0m\u001b[0;34m:\u001b[0m\u001b[0;34m\u001b[0m\u001b[0m\n\u001b[0;32m--> 179\u001b[0;31m                 \u001b[0;32mreturn\u001b[0m \u001b[0mipg\u001b[0m\u001b[0;34m(\u001b[0m\u001b[0mmodelParams\u001b[0m\u001b[0;34m.\u001b[0m\u001b[0mteff\u001b[0m\u001b[0;34m,\u001b[0m \u001b[0mmodelParams\u001b[0m\u001b[0;34m.\u001b[0m\u001b[0mlogg\u001b[0m\u001b[0;34m,\u001b[0m \u001b[0mmodelParams\u001b[0m\u001b[0;34m.\u001b[0m\u001b[0mmetals\u001b[0m\u001b[0;34m,\u001b[0m \u001b[0mmodelParams\u001b[0m\u001b[0;34m.\u001b[0m\u001b[0malphafe\u001b[0m\u001b[0;34m,\u001b[0m \u001b[0mmodelParams\u001b[0m\u001b[0;34m.\u001b[0m\u001b[0mnfe\u001b[0m\u001b[0;34m,\u001b[0m \u001b[0mmodelParams\u001b[0m\u001b[0;34m.\u001b[0m\u001b[0mcfe\u001b[0m\u001b[0;34m)\u001b[0m\u001b[0;34m\u001b[0m\u001b[0m\n\u001b[0m",
      "\u001b[0;32m/Users/harleyr/anaconda/lib/python2.7/site-packages/apogee-1.-py2.7.egg/apogee/tools/read.py\u001b[0m in \u001b[0;36moutput_wrapper\u001b[0;34m(*args, **kwargs)\u001b[0m\n\u001b[1;32m     35\u001b[0m     \u001b[0;34m@\u001b[0m\u001b[0mwraps\u001b[0m\u001b[0;34m(\u001b[0m\u001b[0mfunc\u001b[0m\u001b[0;34m)\u001b[0m\u001b[0;34m\u001b[0m\u001b[0m\n\u001b[1;32m     36\u001b[0m     \u001b[0;32mdef\u001b[0m \u001b[0moutput_wrapper\u001b[0m\u001b[0;34m(\u001b[0m\u001b[0;34m*\u001b[0m\u001b[0margs\u001b[0m\u001b[0;34m,\u001b[0m\u001b[0;34m**\u001b[0m\u001b[0mkwargs\u001b[0m\u001b[0;34m)\u001b[0m\u001b[0;34m:\u001b[0m\u001b[0;34m\u001b[0m\u001b[0m\n\u001b[0;32m---> 37\u001b[0;31m         \u001b[0mout\u001b[0m\u001b[0;34m=\u001b[0m \u001b[0mfunc\u001b[0m\u001b[0;34m(\u001b[0m\u001b[0;34m*\u001b[0m\u001b[0margs\u001b[0m\u001b[0;34m,\u001b[0m\u001b[0;34m**\u001b[0m\u001b[0mkwargs\u001b[0m\u001b[0;34m)\u001b[0m\u001b[0;34m\u001b[0m\u001b[0m\n\u001b[0m\u001b[1;32m     38\u001b[0m         \u001b[0;32mif\u001b[0m \u001b[0mkwargs\u001b[0m\u001b[0;34m.\u001b[0m\u001b[0mget\u001b[0m\u001b[0;34m(\u001b[0m\u001b[0;34m'apStarWavegrid'\u001b[0m\u001b[0;34m,\u001b[0m\u001b[0mTrue\u001b[0m\u001b[0;34m)\u001b[0m\u001b[0;31m \u001b[0m\u001b[0;31m\\\u001b[0m\u001b[0;34m\u001b[0m\u001b[0m\n\u001b[1;32m     39\u001b[0m                 or (kwargs.get('ext',-1) == 234 \\\n",
      "\u001b[0;32m/Users/harleyr/anaconda/lib/python2.7/site-packages/apogee-1.-py2.7.egg/apogee/modelspec/ferre.pyc\u001b[0m in \u001b[0;36m__call__\u001b[0;34m(self, teff, logg, metals, am, nm, cm, vm)\u001b[0m\n\u001b[1;32m    132\u001b[0m         \u001b[0;32mexcept\u001b[0m \u001b[0msubprocess\u001b[0m\u001b[0;34m.\u001b[0m\u001b[0mCalledProcessError\u001b[0m\u001b[0;34m:\u001b[0m\u001b[0;34m\u001b[0m\u001b[0m\n\u001b[1;32m    133\u001b[0m             \u001b[0;32mraise\u001b[0m \u001b[0mException\u001b[0m\u001b[0;34m(\u001b[0m\u001b[0;34m\"Running FERRE Interpolator instance in directory %s failed ...\"\u001b[0m \u001b[0;34m%\u001b[0m \u001b[0mdir\u001b[0m\u001b[0;34m)\u001b[0m\u001b[0;34m\u001b[0m\u001b[0m\n\u001b[0;32m--> 134\u001b[0;31m         \u001b[0mout\u001b[0m\u001b[0;34m=\u001b[0m \u001b[0mnumpy\u001b[0m\u001b[0;34m.\u001b[0m\u001b[0mloadtxt\u001b[0m\u001b[0;34m(\u001b[0m\u001b[0mStringIO\u001b[0m\u001b[0;34m(\u001b[0m\u001b[0mself\u001b[0m\u001b[0;34m.\u001b[0m\u001b[0m_proc\u001b[0m\u001b[0;34m.\u001b[0m\u001b[0mstderr\u001b[0m\u001b[0;34m.\u001b[0m\u001b[0mreadline\u001b[0m\u001b[0;34m(\u001b[0m\u001b[0;34m)\u001b[0m\u001b[0;34m)\u001b[0m\u001b[0;34m)\u001b[0m\u001b[0;34m\u001b[0m\u001b[0m\n\u001b[0m\u001b[1;32m    135\u001b[0m         \u001b[0;32mreturn\u001b[0m \u001b[0mout\u001b[0m\u001b[0;34m\u001b[0m\u001b[0m\n\u001b[1;32m    136\u001b[0m \u001b[0;34m\u001b[0m\u001b[0m\n",
      "\u001b[0;31mKeyboardInterrupt\u001b[0m: "
     ]
    }
   ],
   "source": [
    "import Grid\n",
    "\n",
    "# The number of passes to go through the grid\n",
    "passCount = 3\n",
    "Grid.runGrid(passCount, filename='lists/binaries3.dat')"
   ]
  },
  {
   "cell_type": "code",
   "execution_count": null,
   "metadata": {
    "collapsed": true
   },
   "outputs": [],
   "source": []
  }
 ],
 "metadata": {
  "anaconda-cloud": {},
  "kernelspec": {
   "display_name": "Python [Root]",
   "language": "python",
   "name": "Python [Root]"
  },
  "language_info": {
   "codemirror_mode": {
    "name": "ipython",
    "version": 2
   },
   "file_extension": ".py",
   "mimetype": "text/x-python",
   "name": "python",
   "nbconvert_exporter": "python",
   "pygments_lexer": "ipython2",
   "version": "2.7.12"
  }
 },
 "nbformat": 4,
 "nbformat_minor": 0
}
