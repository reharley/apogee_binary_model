{
 "cells": [
  {
   "cell_type": "code",
   "execution_count": null,
   "metadata": {
    "collapsed": false
   },
   "outputs": [
    {
     "name": "stdout",
     "output_type": "stream",
     "text": [
      "-------------PASS 1/10-------------\n",
      "Fitting: 4587, 2M03250916+3126099, nvisits: 3\n",
      "On target: 1/75\n",
      "('Visit: 1', 'Grid dimensions: (4, 8, 7, 10, 10)')\n",
      "('Visit: 2', 'Grid dimensions: (4, 8, 7, 10, 10)')\n",
      "('Visit: 3', 'Grid dimensions: (4, 8, 7, 10, 10)')\n",
      "Average visit time: 28.16s\n",
      "Target run time: 84.56s\n",
      "Fitting: 4587, 2M03261467+3209453, nvisits: 7\n",
      "On target: 2/75\n",
      "('Visit: 1', 'Grid dimensions: (4, 8, 7, 10, 10)')\n"
     ]
    }
   ],
   "source": [
    "import Grid\n",
    "\n",
    "# The number of passes to go through the grid\n",
    "passCount = 10\n",
    "Grid.runGrid(passCount)"
   ]
  },
  {
   "cell_type": "code",
   "execution_count": null,
   "metadata": {
    "collapsed": true
   },
   "outputs": [],
   "source": []
  }
 ],
 "metadata": {
  "anaconda-cloud": {},
  "kernelspec": {
   "display_name": "Python [Root]",
   "language": "python",
   "name": "Python [Root]"
  },
  "language_info": {
   "codemirror_mode": {
    "name": "ipython",
    "version": 2
   },
   "file_extension": ".py",
   "mimetype": "text/x-python",
   "name": "python",
   "nbconvert_exporter": "python",
   "pygments_lexer": "ipython2",
   "version": "2.7.12"
  }
 },
 "nbformat": 4,
 "nbformat_minor": 0
}
